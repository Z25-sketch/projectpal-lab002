{
 "cells": [
  {
   "cell_type": "markdown",
   "id": "14325705",
   "metadata": {},
   "source": [
    "# 🧠 projectPal Lab #002: Kanban Board Implementation\n",
    "\n",
    "**Lab Type:** Project  \n",
    "**Estimated Time:** 60–120 mins  \n",
    "**Skill Level:** Intermediate"
   ]
  },
  {
   "cell_type": "code",
   "execution_count": null,
   "id": "b437ff20",
   "metadata": {},
   "outputs": [],
   "source": [
    "# Let's begin by printing your name to personalize the notebook\n",
    "your_name = \"\"\n",
    "print(f\"Welcome to the lab, {your_name}!\")"
   ]
  },
  {
   "cell_type": "markdown",
   "id": "3b4a573b",
   "metadata": {},
   "source": [
    "## 🔍 STAR Method Lab Prompt\n",
    "\n",
    "**Situation:**  \n",
    "[What project problem or management decision is being faced?]\n",
    "\n",
    "**Task:**  \n",
    "[What method, board, or plan are you testing?]\n",
    "\n",
    "**Action:**  \n",
    "[What tool or technique are you using to break it down?]\n",
    "\n",
    "**Expected Result:**  \n",
    "[A plan, comparison, or output that could be used in a real project.]"
   ]
  },
  {
   "cell_type": "markdown",
   "id": "91cb871f",
   "metadata": {},
   "source": [
    "## ✍️ Your Assignment\n",
    "\n",
    "_Use this section to complete your deliverable:_\n",
    "\n",
    "```markdown\n",
    "(Example Format)\n",
    "\n",
    "- **Tool**: Trello  \n",
    "- **Board Structure**: To Do, In Progress, Review, Done  \n",
    "- **Tasks**: User auth, UI wireframes, feedback form  \n",
    "- **STAR Output**:  \n",
    "   - S: Too many ad hoc tasks causing confusion  \n",
    "   - T: Implement Kanban for clarity  \n",
    "   - A: Built board + wrote card details using Gemini  \n",
    "   - R: Improved transparency and collaboration  \n",
    "```"
   ]
  }
 ],
 "metadata": {},
 "nbformat": 4,
 "nbformat_minor": 5
}
