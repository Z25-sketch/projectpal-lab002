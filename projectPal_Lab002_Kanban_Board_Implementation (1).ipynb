{
  "cells": [
    {
      "cell_type": "markdown",
      "id": "14325705",
      "metadata": {
        "id": "14325705"
      },
      "source": [
        "# 🧠 projectPal Lab #002: Kanban Board Implementation\n",
        "\n",
        "**Lab Type:** Project  \n",
        "**Estimated Time:** 60–120 mins  \n",
        "**Skill Level:** Intermediate"
      ]
    },
    {
      "cell_type": "code",
      "execution_count": 1,
      "id": "b437ff20",
      "metadata": {
        "colab": {
          "base_uri": "https://localhost:8080/"
        },
        "id": "b437ff20",
        "outputId": "c2e23e63-9c96-42ca-da9a-aca320b0234b"
      },
      "outputs": [
        {
          "output_type": "stream",
          "name": "stdout",
          "text": [
            "Welcome to the lab, Zion Chapman!\n"
          ]
        }
      ],
      "source": [
        "# Let's begin by printing your name to personalize the notebook\n",
        "your_name = \"Zion Chapman\"\n",
        "print(f\"Welcome to the lab, {your_name}!\")"
      ]
    },
    {
      "cell_type": "markdown",
      "id": "3b4a573b",
      "metadata": {
        "id": "3b4a573b"
      },
      "source": [
        "## 🔍 STAR Method Lab Prompt\n",
        "\n",
        "**Situation:**  \n",
        "[A project where requirements are likely to change as progression increases.  Feedback is important for the stages of the project. This is common in software development or creating a new marketing campaign.]\n",
        "\n",
        "**Task:**  \n",
        "[Delivering the project through cycles and allowing for flexibility.]\n",
        "\n",
        "**Action:**  \n",
        "[What tool or technique are you using to break it down?]\n",
        "\n",
        "**Expected Result:**  \n",
        "[ Break the project into small, manageable chunks. At the end of each chuck,I'll have stages to improve based on feedback.]"
      ]
    },
    {
      "cell_type": "markdown",
      "id": "91cb871f",
      "metadata": {
        "id": "91cb871f"
      },
      "source": [
        "## ✍️My Assignment\n",
        "\n",
        "- **Tool**: Trello  \n",
        "- **Board Structure**: To Do, In Progress, Review, Done  \n",
        "- **Tasks**: User auth, UI wireframes, feedback form  \n",
        "- **STAR Output**:  \n",
        "   - S (Situation): Too many tasks causing confusion within our project team, making it difficult to prioritize and track progress effectively.\n",
        "   - T (Task): Implement a Kanban board to bring clarity and structure to our project workflow.\n",
        "   - A (Action): I built a Kanban board in Trello, establishing \"To Do,\" \"In Progress,\" \"Review,\" and \"Done\" columns. I then wrote detailed card descriptions for key tasks like \"User authentication module,\" \"UI wireframes for dashboard,\" and \"Develop feedback form,\" assigning them to team members. I used Gemini to help brainstorm detailed card requirements and descriptions.\n",
        "   - R (Expected Result): The implementation of the Kanban board has significantly improved transparency regarding task progress and ownership, fostering better collaboration and reducing confusion among team members.\n",
        "```"
      ]
    }
  ],
  "metadata": {
    "colab": {
      "provenance": []
    },
    "language_info": {
      "name": "python"
    },
    "kernelspec": {
      "name": "python3",
      "display_name": "Python 3"
    }
  },
  "nbformat": 4,
  "nbformat_minor": 5
}